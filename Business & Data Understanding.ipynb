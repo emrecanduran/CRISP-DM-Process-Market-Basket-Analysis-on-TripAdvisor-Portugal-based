{
 "cells": [
  {
   "cell_type": "markdown",
   "id": "20f1bce6",
   "metadata": {},
   "source": [
    "*EuropeTop100Attractions_ENG_20190101_20210821* dataset description\n",
    "\n",
    "### Sheet **Reviews**\n",
    "Reviews published in Tripadvisor from January 1, 2019 to August 21, 2021, in English, for the top 100 tourist attractions in Europe.\n",
    "- **localID**: string - ID of the attraction\n",
    "- **extractionDate** - date - date when the review was extracted\n",
    "- **globalRating** - numeric - global rating of the attraction at the time of the review extraction (reviews in Tripadvidor are in a scale from 1 to 5 stars)\n",
    "- **positionOnRanking** - numeric - position in TripAdvisor's regional ranking at the extraction date\n",
    "- **sitesOnRanking** - numeric - total number of attractions in TripAdvisor's regional ranking at the extraction date\n",
    "- **totalReviews** - numeric - total reviews written for the attraction at the time of the review extraction\n",
    "- **userName** - string - user name of the TripAdvisor user who posted the review. The user name is composed of two parts (first@second). The first is the public name of the user. The second is the TripAdvisor unique identifier of the user.\n",
    "- **userLocation** - string - location of where the user who posted the review lives. This is not a mandatory field, so many users to not provide their location\n",
    "- **userContributions** - numeric - how many reviews have the user wrote in TripAdvisor at the moment of the extraction of the review\n",
    "- **tripType** - string - type of trip type. This is not a mandatory field\n",
    "- **reviewWritten** - date - date when the review was published\n",
    "- **reviewVisited** - date - date when the customer visited the attraction. The day is always 1 because Tripadvisor only ask users to describe the year and the month, not the day\n",
    "- **reviewRating** - numeric - quantitative rating assigned by the user (1 star - bad to 5 stars - excellent)\n",
    "- **reviewLanguage** - string - language the review was written (in this case should be always \"en\" for english)\n",
    "- **reviewFullText** - string - full text of the review (since this course does not address Text Mining the use of this field is completely optional and its use will not be considered for grading)\n",
    "\n",
    "\n",
    "### Sheet **Attractions**\n",
    "Information about the attractions.\n",
    "- **ID**: string - ID of the attraction\n",
    "- **Name**: string - name of the attraction\n",
    "- **Country**: string - name of the country or region\n",
    "- **ISO**: string - ISO code of the country or region\n",
    "\n",
    "## *Holidays.csv* dataset description\n",
    "Worldwide public holidays.\n",
    "- **countryOrRegion**: string - country or region full name\n",
    "- **countryOrRegionCode**: string - country or region in ISO format\n",
    "- **date**: date - date of the holiday\n",
    "- **holidayName**: string - full name of the holiday\n",
    "- **isPaidTimeOff**: boolean - indicates whether most people have paid time off on this date (only available for US, GB, and India now). If it is NULL, it means unknown\n",
    "- **normalizeHolidayName**: normalized name of the holiday"
   ]
  },
  {
   "cell_type": "markdown",
   "id": "07c9ee33",
   "metadata": {},
   "source": [
    "### Overview\n",
    "<p>Tourism was hit hard by the COVID-19 pandemic. National Tourism Board Organizations (NTBO) want to study users' generated content, such as Social Media reviews, to understand visitors patterns and if these patterns were affected by the pandemic.</p>\n",
    "<p>Employing the CRISP-DM process model, act as a consultant for the Portuguese NTBO. My job is to characterize and describe the patterns of visitants of Portuguese attractions and comparing it to Portugal's main tourism competitors. In addition, I will try to understand visitors' frequent itemset associations, similarities between attractions and visitors.</p>\n",
    "\n"
   ]
  }
 ],
 "metadata": {
  "kernelspec": {
   "display_name": "Python 3 (ipykernel)",
   "language": "python",
   "name": "python3"
  },
  "language_info": {
   "codemirror_mode": {
    "name": "ipython",
    "version": 3
   },
   "file_extension": ".py",
   "mimetype": "text/x-python",
   "name": "python",
   "nbconvert_exporter": "python",
   "pygments_lexer": "ipython3",
   "version": "3.9.12"
  }
 },
 "nbformat": 4,
 "nbformat_minor": 5
}
